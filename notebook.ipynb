{
 "cells": [
  {
   "cell_type": "markdown",
   "id": "d7c56f48",
   "metadata": {},
   "source": [
    "# Project 1 - Support Vector Machine Classification\n",
    "\n",
    "### NAME(S): Daniel Peng\n",
    "### DATE: April 8th"
   ]
  },
  {
   "cell_type": "markdown",
   "id": "9e70405c",
   "metadata": {},
   "source": [
    "## What will we do?\n",
    "Using gradient descent, we will build a Support Vector Machine to find the optimal hyperplane that maximizes the margin between two toy data classes."
   ]
  },
  {
   "cell_type": "markdown",
   "id": "b88ffeca",
   "metadata": {},
   "source": [
    "## What are some use cases for SVMs?\n",
    "\n",
    "-Classification, regression (time series prediction, etc.), outlier detection, clustering"
   ]
  },
  {
   "cell_type": "markdown",
   "id": "74fe6318",
   "metadata": {},
   "source": [
    "## How does an SVM compare to other ML algorithms?\n",
    "\n",
    "\n",
    "![alt text](images/img.png)\n",
    "Classifiers: (a) Logistic Regression, (b) SVM, and (c) Multi-Layer Perception (MLP)\n",
    "* As a rule of thumb, SVMs are great for relatively small data sets with fewer outliers.\n",
    "* Other algorithms (Random forests, deep neural networks, etc.) require more data but almost always develop robust models.\n",
    "* The decision of which classifier to use depends on your dataset and the general complexity of the problem.\n",
    "* \"Premature optimization is the root of all evil (or at least most of it) in programming.\" - Donald Knuth, CS Professor (Turing award speech 1974)\n",
    "\n",
    "## Other Examples\n",
    "\n",
    "- Learning to use Scikit-learn's SVM function to classify images https://github.com/ksopyla/svm_mnist_digit_classification\n",
    "- Pulse classification, more useful dataset\n",
    "https://github.com/akasantony/pulse-classification-svm"
   ]
  },
  {
   "cell_type": "markdown",
   "id": "33de794b",
   "metadata": {},
   "source": [
    "## What is a Support Vector Machine?\n",
    "\n",
    "It's a supervised machine learning algorithm that can be used for both classification and regression problems. But it's usually used for classification. Given two or more labeled data classes, it acts as a discriminative classifier, formally defined by an optimal hyperplane that separates all the classes. New examples mapped into that space can then be categorized based on which side of the gap they fall."
   ]
  },
  {
   "cell_type": "markdown",
   "id": "9df992d6",
   "metadata": {},
   "source": [
    "## What are Support Vectors?\n",
    "\n",
    "![alt text](images/SvmMargin2.jpg \"Logo Title Text 1\")\n",
    "\n",
    "Support vectors are the data points nearest to the hyperplane, the points of a data set that, if removed, would alter the position of the dividing hyperplane. Because of this, they can be considered the critical elements of a data set; they help us build our SVM."
   ]
  },
  {
   "cell_type": "markdown",
   "id": "1b378158",
   "metadata": {},
   "source": [
    "\n",
    "## What is a hyperplane?\n",
    "\n",
    "![alt text](images/Hyperplanes+as+decision+surfaces.jpg \"Logo Title Text 1\")\n",
    "\n",
    "Geometry tells us that a hyperplane is a subspace of one dimension less than its ambient space. For instance, a hyperplane of an n-dimensional space is a flat subset with size $n − 1$. By its nature, it separates the space in half.\n",
    "\n",
    "## Linear vs nonlinear classification?\n",
    "\n",
    "Sometimes our data is linearly separable. That means for N classes with M features. We can learn a mapping that is a linear combination. (like $y = mx + b$). Or even a multidimensional hyperplane ($y = x + z + b + q$). No matter how many dimensions/features a set of classes have, we can represent the mapping using a linear function.\n",
    "\n",
    "But sometimes it is not. Like if there was a quadratic mapping. Luckily for us, SVMs can efficiently perform a non-linear classification using what is called the kernel trick.\n",
    "\n",
    "![alt text](images/1_mCwnu5kXot6buL7jeIafqQ.png \"Logo Title Text 1\")\n",
    "\n",
    "More on this as a Bonus question comes at the end of notebook.\n",
    "\n",
    "All right, let's get to the building!"
   ]
  },
  {
   "cell_type": "markdown",
   "id": "6144c6ca",
   "metadata": {},
   "source": [
    "# Instructions\n",
    "\n",
    "In this assignment, you will implement a support vector machine (SVM) from scratch, and you will use your implementation for multiclass classification on the MNIST dataset.\n",
    "\n",
    "\n",
    "In `implementation.py` implement the SVM class. In the fit function, use `scipy.minimize` ([see documentation](https://docs.scipy.org/doc/scipy/reference/generated/scipy.optimize.minimize.html)) to solve the constrained optimization problem:\n",
    "\n",
    "$\\begin{align*}\n",
    "& \\underset{a}{\\text{maximize}}& & \\sum_{i=1}^{n}a_{i} - \\frac{1}{2}\\sum_{i=1}^{n}\\sum_{j=1}^{n}a_{i}a_{j}y_{i}y_{j}(x_{i}\\cdot x_{j}) \\\\\n",
    "& \\text{subject to}& & a_{i} \\ge 0, i=1,\\ldots, n \\\\\n",
    "& & & \\sum_{i=1}^{n}a_{i}y_{i} = 0\n",
    "\\end{align*}$\n",
    "\n",
    "__Note__: An SVM is a convex optimization problem. Using  to solve the equation above will be computationally expensive given larger datasets. [CS 168 Convex Optimization](https://www.cs.tufts.edu/t/courses/description/spring2023/CS/168-01) is a course to take later if interested in optimization and the mathematics and intuition that drives it."
   ]
  },
  {
   "cell_type": "code",
   "execution_count": 39,
   "id": "dafe3e4b",
   "metadata": {
    "jupyter": {
     "outputs_hidden": false
    }
   },
   "outputs": [
    {
     "name": "stdout",
     "output_type": "stream",
     "text": [
      "The autoreload extension is already loaded. To reload it, use:\n",
      "  %reload_ext autoreload\n"
     ]
    }
   ],
   "source": [
    "import numpy as np\n",
    "import pandas as pd\n",
    "\n",
    "from scipy.io import loadmat\n",
    "from implementation import SVM, linear_kernel, nonlinear_kernel, OvRSVM, OvR_LogisticRegression\n",
    "# from solution import SVM, linear_kernel, nonlinear_kernel\n",
    "from sklearn.datasets import make_blobs\n",
    "from sklearn.svm import SVC\n",
    "from sklearn.linear_model import LogisticRegression\n",
    "from sklearn.metrics import confusion_matrix\n",
    "\n",
    "import matplotlib\n",
    "import matplotlib.pyplot as plt\n",
    "\n",
    "%load_ext autoreload\n",
    "%autoreload 2"
   ]
  },
  {
   "cell_type": "markdown",
   "id": "429ed089",
   "metadata": {},
   "source": [
    "## Step 1 - Get Data"
   ]
  },
  {
   "cell_type": "code",
   "execution_count": 2,
   "id": "8f393d56",
   "metadata": {
    "jupyter": {
     "outputs_hidden": false
    }
   },
   "outputs": [
    {
     "data": {
      "image/png": "[encoded data removed]",
      "text/plain": [
       "<Figure size 432x288 with 1 Axes>"
      ]
     },
     "metadata": {
      "needs_background": "light"
     },
     "output_type": "display_data"
    }
   ],
   "source": [
    "# Input data - of the form [Bias term, x_1 value, x_2 value]\n",
    "X = np.array([\n",
    "    [1, -2, 4,],\n",
    "    [1, 4, 1,],\n",
    "    [1, 1, 6,],\n",
    "    [1, 2, 4,],\n",
    "    [1, 6, 2,],\n",
    "])\n",
    "\n",
    "# Associated output labels - first 2 examples are labeled '-1' and last 3 are labeled '+1'\n",
    "y = np.array([-1,-1,1,1,1])\n",
    "\n",
    "# Let's plot these examples on a 2D graph!\n",
    "# Plot the negative samples (the first 2)\n",
    "plt.scatter(X[:,1][y==-1], X[:,2][y==-1], s=120, marker='_', linewidths=2)\n",
    "# Plot the positive samples (the last 3)\n",
    "plt.scatter(X[:,1][y==1], X[:,2][y==1], s=120, marker='+', linewidths=2)\n",
    "\n",
    "# Print a possible hyperplane, that is separating the two classes.\n",
    "# we'll two points and draw the line between them (naive guess)\n",
    "plt.plot([-2,6],[6,0.5])\n",
    "plt.xlabel(r\"$x_1$\")\n",
    "plt.ylabel(r\"$x_2$\")\n",
    "plt.show()"
   ]
  },
  {
   "cell_type": "markdown",
   "id": "30ac7fad",
   "metadata": {},
   "source": [
    "### SVM basics\n",
    "SVM using scikit-learn."
   ]
  },
  {
   "cell_type": "code",
   "execution_count": 3,
   "id": "0229448e",
   "metadata": {
    "jupyter": {
     "outputs_hidden": false
    },
    "pycharm": {
     "is_executing": true
    }
   },
   "outputs": [
    {
     "name": "stdout",
     "output_type": "stream",
     "text": [
      "scikit-learn indices of support vectors: [0 1 3 4]\n"
     ]
    }
   ],
   "source": [
    "result = SVC(kernel=\"linear\")\n",
    "result.fit(X, y.ravel())\n",
    "\n",
    "print(\"scikit-learn indices of support vectors:\", result.support_)\n"
   ]
  },
  {
   "cell_type": "markdown",
   "id": "34faeb13",
   "metadata": {},
   "source": [
    "## Implement and test SVM to sklearn's version (20 points)\n",
    "Compare the indices of support vectors from scikit-lean with `implementation.py` using toy data."
   ]
  },
  {
   "cell_type": "code",
   "execution_count": 4,
   "id": "d2162715",
   "metadata": {
    "jupyter": {
     "outputs_hidden": false
    },
    "pycharm": {
     "is_executing": true
    }
   },
   "outputs": [
    {
     "name": "stdout",
     "output_type": "stream",
     "text": [
      "scikit-learn indices of support vectors: [0 1 3 4]\n",
      "[0 1 3 4]\n"
     ]
    },
    {
     "data": {
      "text/plain": [
       "<implementation.SVM at 0x2936f7803d0>"
      ]
     },
     "execution_count": 4,
     "metadata": {},
     "output_type": "execute_result"
    }
   ],
   "source": [
    "# TODO: implement SVM, along with linear_kernel\n",
    "\n",
    "result = SVC(kernel=\"linear\")\n",
    "result.fit(X, y)\n",
    "\n",
    "print(\"scikit-learn indices of support vectors:\", result.support_)\n",
    "\n",
    "svm = SVM(kernel=linear_kernel)\n",
    "svm.fit(X, y)"
   ]
  },
  {
   "cell_type": "markdown",
   "id": "a08da479",
   "metadata": {},
   "source": []
  },
  {
   "cell_type": "code",
   "execution_count": 5,
   "id": "a3756e9e",
   "metadata": {
    "jupyter": {
     "outputs_hidden": false
    }
   },
   "outputs": [
    {
     "name": "stdout",
     "output_type": "stream",
     "text": [
      "implementation.py indices of support vectors: [0 1 3 4]\n"
     ]
    }
   ],
   "source": [
    "print(\"implementation.py indices of support vectors:\", \\\n",
    "      np.array(range(y.shape[0]))[svm.a>1e-8])\n",
    "\n",
    "if (result.support_ != np.array(range(y.shape[0]))[svm.a>1e-8]).all():\n",
    "    raise Exception(\"The calculation is wrong\")"
   ]
  },
  {
   "cell_type": "markdown",
   "id": "3b88a446",
   "metadata": {},
   "source": [
    "Compare the weights assigned to the features from scikit-lean with `implementation.py`."
   ]
  },
  {
   "cell_type": "code",
   "execution_count": 51,
   "id": "c2955efd",
   "metadata": {
    "pycharm": {
     "is_executing": true
    }
   },
   "outputs": [
    {
     "name": "stdout",
     "output_type": "stream",
     "text": [
      "scikit-learn weights assigned to the features: [[0.         0.5        0.99969451]]\n",
      "implementation.py weights assigned to the features: [-5.55111512e-17  4.99986206e-01  1.00000349e+00]\n"
     ]
    }
   ],
   "source": [
    "# Compare the weights\n",
    "print(\"scikit-learn weights assigned to the features:\", result.coef_)\n",
    "print(\"implementation.py weights assigned to the features:\", svm.w)\n",
    "\n",
    "# Compute the difference\n",
    "diff = np.abs(result.coef_ - svm.w)\n",
    "\n",
    "# Check if the difference is within reasonable error\n",
    "if (diff > 1e-3).any():\n",
    "    raise Exception(\"The calculation is wrong\")\n"
   ]
  },
  {
   "cell_type": "markdown",
   "id": "1032edf6",
   "metadata": {},
   "source": [
    "Compare the bias weight from scikit-lean with `implementation.py`."
   ]
  },
  {
   "cell_type": "code",
   "execution_count": 52,
   "id": "a255aec7",
   "metadata": {
    "pycharm": {
     "is_executing": true
    }
   },
   "outputs": [
    {
     "name": "stdout",
     "output_type": "stream",
     "text": [
      "scikit-learn bias weight: [-3.99915989]\n",
      "implementation.py bias weight: -3.9999751146811855\n"
     ]
    }
   ],
   "source": [
    "print(\"scikit-learn bias weight:\", result.intercept_)\n",
    "print(\"implementation.py bias weight:\", svm.b)\n",
    "\n",
    "if (diff > 1e-3).all():\n",
    "    raise Exception(\"The calculation is wrong\")"
   ]
  },
  {
   "cell_type": "markdown",
   "id": "909cfb10",
   "metadata": {},
   "source": [
    "Compare the predictions from scikit-lean with `implementation.py`."
   ]
  },
  {
   "cell_type": "code",
   "execution_count": 8,
   "id": "af6bb564",
   "metadata": {
    "scrolled": true
   },
   "outputs": [
    {
     "name": "stdout",
     "output_type": "stream",
     "text": [
      "scikit-learn predictions: [-1 -1]\n",
      "implementation.py predictions: [-1. -1.]\n"
     ]
    }
   ],
   "source": [
    "X_test = np.array([\n",
    "    [4, 4, -1],\n",
    "    [1, 3, -1]\n",
    "    ])\n",
    "print(\"scikit-learn predictions:\", result.predict(X_test))\n",
    "print(\"implementation.py predictions:\", svm.predict(X_test))\n",
    "\n",
    "if (svm.predict(X_test) != result.predict(X_test)).all():\n",
    "    raise Exception(\"The calculation is wrong\")"
   ]
  },
  {
   "cell_type": "markdown",
   "id": "2c5ca9b0",
   "metadata": {},
   "source": [
    "### Using SKLearns SVM (*one-versus-the-rest*)\n",
    "\n",
    "You can load the data with `scipy.io.loadmat`, which will return a Python dictionary containing the test and train data and labels."
   ]
  },
  {
   "cell_type": "code",
   "execution_count": 9,
   "id": "7a428d4a",
   "metadata": {},
   "outputs": [],
   "source": [
    "mnist = loadmat('data/MNIST.mat')\n",
    "train_samples = mnist['train_samples']\n",
    "train_samples_labels = mnist['train_samples_labels'].ravel()\n",
    "test_samples = mnist['test_samples']\n",
    "test_samples_labels = mnist['test_samples_labels'].ravel()"
   ]
  },
  {
   "cell_type": "markdown",
   "id": "e0426174",
   "metadata": {},
   "source": [
    "## Explore the MNIST dataset\n",
    "Explore the MNIST dataset:\n"
   ]
  },
  {
   "cell_type": "code",
   "execution_count": 10,
   "id": "7c84585f",
   "metadata": {},
   "outputs": [
    {
     "data": {
      "image/png": "[encoded data removed]",
      "text/plain": [
       "<Figure size 1440x144 with 10 Axes>"
      ]
     },
     "metadata": {
      "needs_background": "light"
     },
     "output_type": "display_data"
    },
    {
     "name": "stdout",
     "output_type": "stream",
     "text": [
      "Training set class counts: [382, 451, 410, 413, 417, 347, 394, 412, 373, 401]\n",
      "Test set class counts: [86, 122, 113, 115, 108, 92, 87, 99, 86, 92]\n"
     ]
    }
   ],
   "source": [
    "# TODO: Visualize samples of each class\n",
    "# TODO: Display counts of each class\n",
    "# Define class labels\n",
    "class_labels = list(range(10))\n",
    "\n",
    "# Initialize figure with 10 subplots (one for each class)\n",
    "fig, axs = plt.subplots(1, 10, figsize=(20, 2))\n",
    "\n",
    "# Loop over each class\n",
    "for i, class_label in enumerate(class_labels):\n",
    "    # Find the first sample in the training set with the current class label\n",
    "    sample_index = (train_samples_labels == class_label).argmax()\n",
    "    # Get the corresponding sample and reshape it to a 28x28 image\n",
    "    sample_image = train_samples[sample_index].reshape((28, 28))\n",
    "    # Plot the sample in the corresponding subplot\n",
    "    axs[i].imshow(sample_image, cmap='gray')\n",
    "    axs[i].set_title(str(class_label))\n",
    "\n",
    "# Display the figure\n",
    "plt.show()\n",
    "\n",
    "# Display the counts of each class in the training set\n",
    "class_counts = [sum(train_samples_labels == i) for i in class_labels]\n",
    "print('Training set class counts:', class_counts)\n",
    "\n",
    "# Display the counts of each class in the test set\n",
    "class_counts = [sum(test_samples_labels == i) for i in class_labels]\n",
    "print('Test set class counts:', class_counts)"
   ]
  },
  {
   "cell_type": "markdown",
   "id": "376e1c27",
   "metadata": {},
   "source": [
    "### *one-versus-the-rest* (15 Points) and analysis\n",
    "Using your implementation, compare multiclass classification performance of *one-versus-the-rest*\n",
    "\n",
    "**Create your own implementation of *one-versus-the-rest* and *one-versus-one*. Do not use sklearns multiclass SVM.**"
   ]
  },
  {
   "cell_type": "code",
   "execution_count": 40,
   "id": "40471ccc",
   "metadata": {},
   "outputs": [],
   "source": [
    "# TODO loop over classes training one_versus_the_rest()\n",
    "# TODO save all the prediction probability by predict_prob() for the following function\n",
    "# Hint: svm = SVC(kernel=\"linear\", probability=True)\n",
    "\n",
    "ovr_svm = OvRSVM(kernel='linear')\n",
    "ovr_svm.fit(train_samples, train_samples_labels)\n",
    "\n",
    "\n",
    "# get prediction probabilities\n",
    "ovr_svm_probs = ovr_svm.predict_prob(test_samples)"
   ]
  },
  {
   "cell_type": "markdown",
   "id": "20bb17b4",
   "metadata": {},
   "source": [
    "Determine the accuracy"
   ]
  },
  {
   "cell_type": "code",
   "execution_count": 41,
   "id": "e5095c07",
   "metadata": {
    "jupyter": {
     "outputs_hidden": false
    }
   },
   "outputs": [
    {
     "name": "stdout",
     "output_type": "stream",
     "text": [
      "Train accuracy: 91.85\n",
      "Test accuracy: 88.60\n"
     ]
    }
   ],
   "source": [
    "from sklearn.metrics import accuracy_score\n",
    "\n",
    "# Predict class probabilities for the train and test samples\n",
    "train_probs = ovr_svm.predict_prob(train_samples)\n",
    "test_probs = ovr_svm.predict_prob(test_samples)\n",
    "\n",
    "# Obtain the predicted class labels by selecting the class with the highest probability\n",
    "train_preds = np.argmax(train_probs, axis=1)\n",
    "test_preds = np.argmax(test_probs, axis=1)\n",
    "\n",
    "# Calculate the train and test accuracies\n",
    "train_accuracy = accuracy_score(train_samples_labels, train_preds)\n",
    "test_accuracy = accuracy_score(test_samples_labels, test_preds)\n",
    "\n",
    "print(\"Train accuracy: {:.2f}\".format(100*train_accuracy))\n",
    "print(\"Test accuracy: {:.2f}\".format(100*test_accuracy))"
   ]
  },
  {
   "cell_type": "markdown",
   "id": "b5ca13d6",
   "metadata": {},
   "source": [
    "The parameter $C>0$ controls the tradeoff between the size of the margin and the slack variable penalty. It is analogous to the inverse of a regularization coefficient. Include in your report a brief discussion of how you found an appropriate value."
   ]
  },
  {
   "cell_type": "code",
   "execution_count": 47,
   "id": "0ec78219",
   "metadata": {
    "jupyter": {
     "outputs_hidden": false
    }
   },
   "outputs": [],
   "source": [
    "# Hint: Try using np.logspace for hyperparameter tuning\n",
    "C_values = np.logspace(-5, 5, 11)\n",
    "test_accuracies = []\n",
    "train_accuracies = []\n",
    "for C in C_values:\n",
    "    ovr_svm = OvRSVM(kernel='linear')\n",
    "    ovr_svm.clf = SVC(kernel='linear', C=C, probability=True)\n",
    "    ovr_svm.fit(train_samples, train_samples_labels)\n",
    "\n",
    "    train_probs = ovr_svm.predict_prob(train_samples)\n",
    "    test_probs = ovr_svm.predict_prob(test_samples)\n",
    "    train_preds = np.argmax(train_probs, axis=1)\n",
    "    test_preds = np.argmax(test_probs, axis=1)\n",
    "    train_accuracy = accuracy_score(train_samples_labels, train_preds)\n",
    "    test_accuracy = accuracy_score(test_samples_labels, test_preds)\n",
    "\n",
    "    train_accuracies.append(train_accuracy)\n",
    "    test_accuracies.append(test_accuracy)"
   ]
  },
  {
   "cell_type": "code",
   "execution_count": 61,
   "id": "7ed51607",
   "metadata": {},
   "outputs": [
    {
     "name": "stdout",
     "output_type": "stream",
     "text": [
      "[0.91825, 0.918, 0.9185, 0.918, 0.91775, 0.918, 0.91825, 0.91825, 0.9185, 0.9185, 0.91875]\n",
      "[0.887, 0.886, 0.885, 0.887, 0.885, 0.885, 0.886, 0.886, 0.887, 0.886, 0.885]\n",
      "[1.e-05 1.e-04 1.e-03 1.e-02 1.e-01 1.e+00 1.e+01 1.e+02 1.e+03 1.e+04\n",
      " 1.e+05]\n"
     ]
    }
   ],
   "source": [
    "print(train_accuracies)\n",
    "print(test_accuracies)\n",
    "print(C_values)"
   ]
  },
  {
   "cell_type": "markdown",
   "id": "f36545ae",
   "metadata": {},
   "source": [
    "Provide details on how you found an appropriate value."
   ]
  },
  {
   "cell_type": "markdown",
   "id": "e3501e9d",
   "metadata": {},
   "source": []
  },
  {
   "cell_type": "markdown",
   "id": "e0649eeb",
   "metadata": {},
   "source": [
    "Plot accuracies for train and test using logspace for x-axis (i.e., $C$ values)"
   ]
  },
  {
   "cell_type": "code",
   "execution_count": 48,
   "id": "5bcc17e7",
   "metadata": {
    "jupyter": {
     "outputs_hidden": false
    }
   },
   "outputs": [
    {
     "data": {
      "image/png": "[encoded data removed]",
      "text/plain": [
       "<Figure size 432x288 with 1 Axes>"
      ]
     },
     "metadata": {
      "needs_background": "light"
     },
     "output_type": "display_data"
    }
   ],
   "source": [
    "plt.plot(np.log10(C_values), train_accuracies, label='Train accuracy')\n",
    "plt.plot(np.log10(C_values), test_accuracies, label='Test accuracy')\n",
    "plt.xlabel('log(C)')\n",
    "plt.ylabel('Accuracy')\n",
    "plt.title('Hyperparameter Tuning for OvR SVM')\n",
    "plt.legend()\n",
    "plt.show()"
   ]
  },
  {
   "cell_type": "markdown",
   "id": "26e6a6f2",
   "metadata": {},
   "source": [
    "What does this graph tell us about the importance of our C value?"
   ]
  },
  {
   "cell_type": "markdown",
   "id": "2757da88",
   "metadata": {},
   "source": [
    "The C value does not have much importance, as we see that the different C values do not change the accuracies at all. However, we do see a little bit of fluctuation in the Test accuracy when using different C values. But in the grand scheme of things, it doesn't seem like the C value matters much in this scenario.\n",
    "\n",
    "However, looking at the graph, we can see that the C value that gives us the highest accuracy for both training and testing data is the first C value or the C value at $$log(C) = -2$$."
   ]
  },
  {
   "cell_type": "markdown",
   "id": "ed56dd3d",
   "metadata": {},
   "source": [
    "### (10 Points)\n",
    "In addition to calculating percent accuracy, generate multiclass [confusion matrices](https://en.wikipedia.org/wiki/confusion_matrix) as part of your analysis."
   ]
  },
  {
   "cell_type": "code",
   "execution_count": 62,
   "id": "6f7ebe26",
   "metadata": {},
   "outputs": [
    {
     "name": "stdout",
     "output_type": "stream",
     "text": [
      "Train confusion matrix:\n",
      " [[374   0   1   0   0   1   0   0   4   2]\n",
      " [  0 434   3   0   0   5   1   0   7   1]\n",
      " [  2   4 367   5   7   0   7   4  10   4]\n",
      " [  0   1  12 371   0   6   1   7  10   5]\n",
      " [  0   2   4   0 387   0   1   3   2  18]\n",
      " [  4   4   2   9   4 299  11   1   9   4]\n",
      " [  1   2   2   0   1   6 382   0   0   0]\n",
      " [  0   1   3   1   8   0   0 388   0  11]\n",
      " [  2   6  11  10   2   8   4   2 319   9]\n",
      " [  2   0   4   9  14   4   0  12   4 352]]\n",
      "Test confusion matrix:\n",
      " [[ 84   0   0   0   0   1   1   0   0   0]\n",
      " [  0 120   0   1   0   0   0   0   1   0]\n",
      " [  0   0  99   2   0   0   1   3   6   2]\n",
      " [  0   0   1  91   0  11   4   4   3   1]\n",
      " [  0   0   0   0  95   1   5   0   1   6]\n",
      " [  1   0   1   3   0  81   2   0   4   0]\n",
      " [  2   0   0   0   0   4  79   1   1   0]\n",
      " [  1   2   5   0   2   0   0  88   0   1]\n",
      " [  0   0   2   4   5   4   0   2  65   4]\n",
      " [  0   1   0   1   2   1   0   1   2  84]]\n"
     ]
    }
   ],
   "source": [
    "train_predictions = list()\n",
    "test_predictions = list()\n",
    "from sklearn.metrics import confusion_matrix\n",
    "\n",
    "ovr_svm_bestc = OvRSVM(kernel='linear')\n",
    "ovr_svm_bestc.clf = SVC(kernel='linear', C=C, probability=True)\n",
    "ovr_svm_bestc.fit(train_samples, train_samples_labels)\n",
    "train_predictions = np.argmax(ovr_svm_bestc.predict_prob(train_samples), axis=1)\n",
    "test_predictions = np.argmax(ovr_svm_bestc.predict_prob(test_samples), axis=1)\n",
    "\n",
    "train_confusion_matrix = confusion_matrix(train_samples_labels, train_predictions)\n",
    "test_confusion_matrix = confusion_matrix(test_samples_labels, test_predictions)\n",
    "\n",
    "print(\"Train confusion matrix:\\n\", train_confusion_matrix)\n",
    "print(\"Test confusion matrix:\\n\", test_confusion_matrix)"
   ]
  },
  {
   "cell_type": "markdown",
   "id": "ba954594",
   "metadata": {},
   "source": [
    "### Evaluation (15 points)\n",
    "\n",
    "Now we will report our results and compare to other algorithms. Usually compare with a handful\n",
    "Logisitic regression\n",
    "\n",
    "**Create your own implementation of *one-versus-the-rest* and *one-versus-one*. Do not use sklearns multiclass Logistic Regression.**"
   ]
  },
  {
   "cell_type": "code",
   "execution_count": 63,
   "id": "9495b783",
   "metadata": {},
   "outputs": [
    {
     "name": "stdout",
     "output_type": "stream",
     "text": [
      "Logistic Regression train accuracy: 89.65\n",
      "Logistic Regression test accuracy: 87.00\n"
     ]
    }
   ],
   "source": [
    "train_predictions = list()\n",
    "test_predictions = list()\n",
    "\n",
    "ovr_lr = OvR_LogisticRegression(solver='lbfgs', max_iter=1000)\n",
    "ovr_lr.fit(train_samples, train_samples_labels)\n",
    "\n",
    "train_predictions = ovr_lr.predict_prob(train_samples)\n",
    "test_predictions = ovr_lr.predict_prob(test_samples)\n",
    "\n",
    "train_accuracy = accuracy_score(train_samples_labels, np.argmax(train_predictions, axis=1))\n",
    "test_accuracy = accuracy_score(test_samples_labels, np.argmax(test_predictions, axis=1))\n",
    "\n",
    "print(\"Logistic Regression train accuracy: {:.2f}\".format(100*train_accuracy))\n",
    "print(\"Logistic Regression test accuracy: {:.2f}\".format(100*test_accuracy))"
   ]
  },
  {
   "cell_type": "markdown",
   "id": "ddd94448",
   "metadata": {},
   "source": [
    "Create a table comparing model accuracy on train and test data."
   ]
  },
  {
   "cell_type": "markdown",
   "id": "14a73648",
   "metadata": {},
   "source": [
    "|Method   |  Train Acc.(%) |Test Acc.(%)|\n",
    "|-----------|----------|----------|\n",
    "|OVR_SVM|    91.85       | 88.60     |\n",
    "|OVR_LOGREG|    89.65       |  87.00     |"
   ]
  },
  {
   "cell_type": "markdown",
   "id": "25fa9e4c",
   "metadata": {},
   "source": [
    "Create 9 graphs (one for each label) with two ROC curves (one for each model).\n"
   ]
  },
  {
   "cell_type": "code",
   "execution_count": 64,
   "id": "04f8a6af",
   "metadata": {},
   "outputs": [
    {
     "data": {
      "image/png": "[encoded data removed]",
      "text/plain": [
       "<Figure size 1440x576 with 10 Axes>"
      ]
     },
     "metadata": {
      "needs_background": "light"
     },
     "output_type": "display_data"
    }
   ],
   "source": [
    "from sklearn.metrics import roc_curve, auc\n",
    "\n",
    "class_labels = list(range(10))\n",
    "\n",
    "fig, axs = plt.subplots(2, 5, figsize=(20, 8))\n",
    "\n",
    "axs = axs.flatten()\n",
    "\n",
    "for i, class_label in enumerate(class_labels):\n",
    "    svm_probs = ovr_svm.predict_prob(test_samples)[:, i]\n",
    "    lr_probs = ovr_lr.predict_prob(test_samples)[:, i]\n",
    "\n",
    "    svm_fpr, svm_tpr, svm_thresholds = roc_curve(test_samples_labels == class_label, svm_probs)\n",
    "    lr_fpr, lr_tpr, lr_thresholds = roc_curve(test_samples_labels == class_label, lr_probs)\n",
    "\n",
    "    svm_auc = auc(svm_fpr, svm_tpr)\n",
    "    lr_auc = auc(lr_fpr, lr_tpr)\n",
    "\n",
    "    axs[i].plot(svm_fpr, svm_tpr, label='OvR SVM (AUC = {:.2f})'.format(svm_auc))\n",
    "    axs[i].plot(lr_fpr, lr_tpr, label='OvR Logistic Regression (AUC = {:.2f})'.format(lr_auc))\n",
    "    axs[i].set_title('Class {}'.format(class_label))\n",
    "    axs[i].set_xlabel('False Positive Rate')\n",
    "    axs[i].set_ylabel('True Positive Rate')\n",
    "    axs[i].legend(loc='lower right')\n",
    "\n",
    "plt.tight_layout()\n",
    "plt.show()"
   ]
  },
  {
   "cell_type": "markdown",
   "id": "3d24e2a9",
   "metadata": {},
   "source": [
    "# BONUS (+5 points): Non-linear kernel\n",
    "## Intuition Behind Kernels\n",
    "The SVM classifier obtained by solving the convex Lagrange dual of the primal max-margin SVM formulation is as follows:\n",
    "\n",
    "$$ f(x) = \\sum_{i=1}^N\\alpha_i\\cdot y_i\\cdot\\mathrm{K}(x,x_i)+b,$$\n",
    "\n",
    "where $N$ is the number of support vectors.\n",
    "\n",
    "If you know the intuition behind a linear discriminant function, the non-parametric SVM classifier above is very easy to understand. Instead of imagining the original features of each data point, consider a transformation to a new feature space where the data point has $N$ features, one for each support vector. The value of the $i^{th}$ feature is equal to the value of the kernel between the $i^{th}$ support vector and the data point is classified. The original (possibly non-linear) SVM classifier is like any other linear discriminant in this space.\n",
    "\n",
    "Note that after the transformation, the original features of the data point are irrelevant. Its dot products with support vectors (special data points chosen by the SVM optimization algorithm) represent it only. One of my professors used a loose analogy while explaining this idea: A person has seen lakes, rivers, streams, fords, etc., but has never seen the sea. How would you explain to this person what a sea is? By relating the amount of water in an ocean to that found in a water body, the person already knows, etc.\n",
    "\n",
    "In some instances, like the RBF kernel, defining the transformed features in terms of the original features of a data point leads to an infinite-dimensional representation. Unfortunately, though this an awe-inspiring fact often mentioned while explaining how powerful SVMs are, it drops in only after repeated encounters with the idea ranging from introductory machine learning to statistical learning theory.\n",
    "\n",
    "\n",
    "## Intuition Behind Gaussian Kernels\n",
    "\n",
    "The Gaussian/RBF kernel is as follows:\n",
    "\n",
    "$$ \\mathrm{K}(x,y)=exp(−\\frac{||x−y||^2}{2\\sigma^2})$$\n",
    "\n",
    "\n",
    "Like any other kernel, we can understand the RBF kernel regarding feature transformation via the dot products given above. However, the intuition that helps best when analyzing the RBF kernel is that of the Gaussian distribution (as provided by [Akihiro Matsukawa](https://www.quora.com/profile/Akihiro-Matsukawa)).\n",
    "\n",
    "The Gaussian kernel computed with a support vector is an exponentially decaying function in the input feature space, the maximum value of which is attained at the support vector and which decays uniformly in all directions around the support vector, leading to hyper-spherical contours of the kernel function. The SVM classifier with the Gaussian kernel is simply a weighted linear combination of the kernel function computed between a data point and each support vector. The role of a support vector in the classification of a data point gets tempered with $\\alpha$, the global prediction usefulness of the support vector, and $\\mathrm{K}(x,y)$, the local influence of a support vector in prediction at a particular data point.\n",
    "\n",
    "In the 2D feature space, each support vector's kernel function's heat map decay away from the support vector and the resulting classifier (see the following figure).\n",
    "\n",
    "\n",
    "## Notion of Universal Kernels\n",
    "\n",
    "(This comes from learning theory, it could be more intuitive, but good to know.)\n",
    "\n",
    "Gaussian kernels are universal kernels, i.e., their use with appropriate regularization guarantees a globally optimal predictor, which minimizes a classifier's estimation and approximation errors. Here, we incur approximation error by limiting the space of classification models over which the search space. Estimation error refers to errors in estimating the model parameters.\n"
   ]
  },
  {
   "cell_type": "markdown",
   "id": "17ec9d70",
   "metadata": {},
   "source": [
    "## Intuition Behind Gaussian Kernels\n",
    "\n",
    "The Gaussian/RBF kernel is as follows:\n",
    "\n",
    "$$ \\mathrm{K}(x,y)=exp(−\\frac{||x−y||^2}{2\\sigma^2})$$\n",
    "\n",
    "\n",
    "Like any other kernel, we can understand the RBF kernel regarding feature transformation via the dot products given above. However, the intuition that helps best when analyzing the RBF kernel is that of the Gaussian distribution (as provided by [Akihiro Matsukawa](https://www.quora.com/profile/Akihiro-Matsukawa)).\n",
    "\n",
    "The Gaussian kernel computed with a support vector is an exponentially decaying function in the input feature space, the maximum value of which is attained at the support vector and which decays uniformly in all directions around the support vector, leading to hyper-spherical contours of the kernel function. The SVM classifier with the Gaussian kernel is simply a weighted linear combination of the kernel function computed between a data point and each support vector. The role of a support vector in the classification of a data point gets tempered with $\\alpha$, the global prediction usefulness of the support vector, and $\\mathrm{K}(x,y)$, the local influence of a support vector in prediction at a particular data point.\n",
    "\n",
    "In the 2D feature space, each support vector's kernel function's heat map decay away from the support vector and the resulting classifier (see the following figure).\n",
    "\n",
    "![gkernel in 2D](images/gkernel-2d.jpeg \" kernel function of each support vector\")\n"
   ]
  },
  {
   "cell_type": "markdown",
   "id": "a8ae312f",
   "metadata": {},
   "source": [
    "### Notion of Universal Kernels\n",
    "(This comes from learning theory, it could be more intuitive, but good to know.)\n",
    "\n",
    "Gaussian kernels are universal kernels, i.e., their use with appropriate regularization guarantees a globally optimal predictor, which minimizes a classifier's estimation and approximation errors. Here, we incur approximation error by limiting the space of classification models over which the search space. Estimation error refers to errors in estimating the model parameters.\n"
   ]
  },
  {
   "cell_type": "markdown",
   "id": "c9fed984",
   "metadata": {},
   "source": [
    "Implement `nonlinear_kernel()` in `implementation.py`, use it, and compare with others (repeat above for SVM using non-linear kernel and do analysis)."
   ]
  },
  {
   "cell_type": "code",
   "execution_count": null,
   "id": "e56c3646",
   "metadata": {
    "jupyter": {
     "outputs_hidden": false
    }
   },
   "outputs": [],
   "source": [
    "# (Bonus) TODO "
   ]
  }
 ],
 "metadata": {
  "kernelspec": {
   "display_name": "Python 3 (ipykernel)",
   "language": "python",
   "name": "python3"
  },
  "language_info": {
   "codemirror_mode": {
    "name": "ipython",
    "version": 3
   },
   "file_extension": ".py",
   "mimetype": "text/x-python",
   "name": "python",
   "nbconvert_exporter": "python",
   "pygments_lexer": "ipython3",
   "version": "3.9.7"
  },
  "vscode": {
   "interpreter": {
    "hash": "31f2aee4e71d21fbe5cf8b01ff0e069b9275f58929596ceb00d14d90e3e16cd6"
   }
  }
 },
 "nbformat": 4,
 "nbformat_minor": 5
}
